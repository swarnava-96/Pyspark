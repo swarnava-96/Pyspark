{
  "nbformat": 4,
  "nbformat_minor": 0,
  "metadata": {
    "colab": {
      "name": "Pyspark6",
      "provenance": [],
      "collapsed_sections": [],
      "mount_file_id": "1Y5z5-5geB8VbaLPUaf-9M4qbLOt_283b",
      "authorship_tag": "ABX9TyM8a7x+DMbpw+YSj3dG5Ou9",
      "include_colab_link": true
    },
    "kernelspec": {
      "name": "python3",
      "display_name": "Python 3"
    },
    "language_info": {
      "name": "python"
    }
  },
  "cells": [
    {
      "cell_type": "markdown",
      "metadata": {
        "id": "view-in-github",
        "colab_type": "text"
      },
      "source": [
        "<a href=\"https://colab.research.google.com/github/swarnava-96/Pyspark/blob/main/Pyspark6.ipynb\" target=\"_parent\"><img src=\"https://colab.research.google.com/assets/colab-badge.svg\" alt=\"Open In Colab\"/></a>"
      ]
    },
    {
      "cell_type": "markdown",
      "metadata": {
        "id": "S7G_LUqmwbIF"
      },
      "source": [
        "#  Pyspark ML"
      ]
    },
    {
      "cell_type": "code",
      "metadata": {
        "colab": {
          "base_uri": "https://localhost:8080/"
        },
        "id": "iDDjfZdcwcDh",
        "outputId": "839e162f-bdf2-40f4-b1a3-47ae04723a7c"
      },
      "source": [
        "!pip install pyspark"
      ],
      "execution_count": 3,
      "outputs": [
        {
          "output_type": "stream",
          "text": [
            "Collecting pyspark\n",
            "\u001b[?25l  Downloading https://files.pythonhosted.org/packages/89/db/e18cfd78e408de957821ec5ca56de1250645b05f8523d169803d8df35a64/pyspark-3.1.2.tar.gz (212.4MB)\n",
            "\u001b[K     |████████████████████████████████| 212.4MB 67kB/s \n",
            "\u001b[?25hCollecting py4j==0.10.9\n",
            "\u001b[?25l  Downloading https://files.pythonhosted.org/packages/9e/b6/6a4fb90cd235dc8e265a6a2067f2a2c99f0d91787f06aca4bcf7c23f3f80/py4j-0.10.9-py2.py3-none-any.whl (198kB)\n",
            "\u001b[K     |████████████████████████████████| 204kB 18.8MB/s \n",
            "\u001b[?25hBuilding wheels for collected packages: pyspark\n",
            "  Building wheel for pyspark (setup.py) ... \u001b[?25l\u001b[?25hdone\n",
            "  Created wheel for pyspark: filename=pyspark-3.1.2-py2.py3-none-any.whl size=212880768 sha256=291c16157bafa17111340b954fe7d2b7b7f5011bdb39e454910dcaabcec6dfd4\n",
            "  Stored in directory: /root/.cache/pip/wheels/40/1b/2c/30f43be2627857ab80062bef1527c0128f7b4070b6b2d02139\n",
            "Successfully built pyspark\n",
            "Installing collected packages: py4j, pyspark\n",
            "Successfully installed py4j-0.10.9 pyspark-3.1.2\n"
          ],
          "name": "stdout"
        }
      ]
    },
    {
      "cell_type": "code",
      "metadata": {
        "id": "I0x1wxd24v8n"
      },
      "source": [
        "from pyspark.sql import SparkSession\n",
        "spark=SparkSession.builder.appName('Missing').getOrCreate()"
      ],
      "execution_count": 4,
      "outputs": []
    },
    {
      "cell_type": "code",
      "metadata": {
        "colab": {
          "base_uri": "https://localhost:8080/",
          "height": 216
        },
        "id": "ZiRUCEtD5JCm",
        "outputId": "7bce8ca8-4610-47c7-cb0a-8daaa3b35a23"
      },
      "source": [
        "spark"
      ],
      "execution_count": 5,
      "outputs": [
        {
          "output_type": "execute_result",
          "data": {
            "text/html": [
              "\n",
              "            <div>\n",
              "                <p><b>SparkSession - in-memory</b></p>\n",
              "                \n",
              "        <div>\n",
              "            <p><b>SparkContext</b></p>\n",
              "\n",
              "            <p><a href=\"http://f885a6dc7bc0:4040\">Spark UI</a></p>\n",
              "\n",
              "            <dl>\n",
              "              <dt>Version</dt>\n",
              "                <dd><code>v3.1.2</code></dd>\n",
              "              <dt>Master</dt>\n",
              "                <dd><code>local[*]</code></dd>\n",
              "              <dt>AppName</dt>\n",
              "                <dd><code>Missing</code></dd>\n",
              "            </dl>\n",
              "        </div>\n",
              "        \n",
              "            </div>\n",
              "        "
            ],
            "text/plain": [
              "<pyspark.sql.session.SparkSession at 0x7f1bb1b41e90>"
            ]
          },
          "metadata": {
            "tags": []
          },
          "execution_count": 5
        }
      ]
    },
    {
      "cell_type": "code",
      "metadata": {
        "id": "UXtbGVZ45Mav"
      },
      "source": [
        "## Read The dataset\n",
        "training = spark.read.csv('/content/drive/MyDrive/Datasets/test1.csv',header=True,inferSchema=True)"
      ],
      "execution_count": 6,
      "outputs": []
    },
    {
      "cell_type": "code",
      "metadata": {
        "colab": {
          "base_uri": "https://localhost:8080/"
        },
        "id": "Z7id3wwQ5hwP",
        "outputId": "07901089-521a-4c16-915f-63d96423ac9f"
      },
      "source": [
        "training.show()"
      ],
      "execution_count": 7,
      "outputs": [
        {
          "output_type": "stream",
          "text": [
            "+--------+---+----------+------+\n",
            "|    Name|Age|Experience|Salary|\n",
            "+--------+---+----------+------+\n",
            "|Swarnava| 25|         0|     0|\n",
            "|Abhishek| 24|         2| 30000|\n",
            "| Pushpok| 24|         6| 50000|\n",
            "|  Deeyan| 24|         2| 35000|\n",
            "| Swastik| 24|         1| 40000|\n",
            "|  Pranoy| 23|         4| 65000|\n",
            "+--------+---+----------+------+\n",
            "\n"
          ],
          "name": "stdout"
        }
      ]
    },
    {
      "cell_type": "code",
      "metadata": {
        "colab": {
          "base_uri": "https://localhost:8080/"
        },
        "id": "LB6b9nfu5j4P",
        "outputId": "17306c8c-eae9-4802-bf36-f8696f7f6640"
      },
      "source": [
        "training.printSchema()"
      ],
      "execution_count": 8,
      "outputs": [
        {
          "output_type": "stream",
          "text": [
            "root\n",
            " |-- Name: string (nullable = true)\n",
            " |-- Age: integer (nullable = true)\n",
            " |-- Experience: integer (nullable = true)\n",
            " |-- Salary: integer (nullable = true)\n",
            "\n"
          ],
          "name": "stdout"
        }
      ]
    },
    {
      "cell_type": "code",
      "metadata": {
        "colab": {
          "base_uri": "https://localhost:8080/"
        },
        "id": "-RSGGIm55qiD",
        "outputId": "f499735e-ddec-42d6-dcd5-36aac27f3021"
      },
      "source": [
        "training.columns"
      ],
      "execution_count": 9,
      "outputs": [
        {
          "output_type": "execute_result",
          "data": {
            "text/plain": [
              "['Name', 'Age', 'Experience', 'Salary']"
            ]
          },
          "metadata": {
            "tags": []
          },
          "execution_count": 9
        }
      ]
    },
    {
      "cell_type": "code",
      "metadata": {
        "id": "lYTU_6tN5s40"
      },
      "source": [
        "from pyspark.ml.feature import VectorAssembler\n",
        "featureAssembler=VectorAssembler(inputCols=['Age','Experience'],outputCol='Independent Features')"
      ],
      "execution_count": 10,
      "outputs": []
    },
    {
      "cell_type": "code",
      "metadata": {
        "id": "ycOekhO_dqUj"
      },
      "source": [
        "output=featureAssembler.transform(training)"
      ],
      "execution_count": 11,
      "outputs": []
    },
    {
      "cell_type": "code",
      "metadata": {
        "colab": {
          "base_uri": "https://localhost:8080/"
        },
        "id": "ozu9psGveOH5",
        "outputId": "e0fbad88-9288-4eca-98bc-e6db62c6728d"
      },
      "source": [
        "output.show()"
      ],
      "execution_count": 12,
      "outputs": [
        {
          "output_type": "stream",
          "text": [
            "+--------+---+----------+------+--------------------+\n",
            "|    Name|Age|Experience|Salary|Independent Features|\n",
            "+--------+---+----------+------+--------------------+\n",
            "|Swarnava| 25|         0|     0|          [25.0,0.0]|\n",
            "|Abhishek| 24|         2| 30000|          [24.0,2.0]|\n",
            "| Pushpok| 24|         6| 50000|          [24.0,6.0]|\n",
            "|  Deeyan| 24|         2| 35000|          [24.0,2.0]|\n",
            "| Swastik| 24|         1| 40000|          [24.0,1.0]|\n",
            "|  Pranoy| 23|         4| 65000|          [23.0,4.0]|\n",
            "+--------+---+----------+------+--------------------+\n",
            "\n"
          ],
          "name": "stdout"
        }
      ]
    },
    {
      "cell_type": "code",
      "metadata": {
        "colab": {
          "base_uri": "https://localhost:8080/"
        },
        "id": "Fg6dv2-QeP6J",
        "outputId": "73090312-c855-4a0f-c6e9-ac2b46bada10"
      },
      "source": [
        "output.columns"
      ],
      "execution_count": 13,
      "outputs": [
        {
          "output_type": "execute_result",
          "data": {
            "text/plain": [
              "['Name', 'Age', 'Experience', 'Salary', 'Independent Features']"
            ]
          },
          "metadata": {
            "tags": []
          },
          "execution_count": 13
        }
      ]
    },
    {
      "cell_type": "code",
      "metadata": {
        "id": "2KZ--nPFeTeM"
      },
      "source": [
        "finalized_data=output.select(['Independent Features','Salary'])"
      ],
      "execution_count": 16,
      "outputs": []
    },
    {
      "cell_type": "code",
      "metadata": {
        "colab": {
          "base_uri": "https://localhost:8080/"
        },
        "id": "U9SjiOegeeu0",
        "outputId": "98ba3411-81bc-4e02-9ccd-79cb99ce301f"
      },
      "source": [
        "finalized_data.show()"
      ],
      "execution_count": 18,
      "outputs": [
        {
          "output_type": "stream",
          "text": [
            "+--------------------+------+\n",
            "|Independent Features|Salary|\n",
            "+--------------------+------+\n",
            "|          [25.0,0.0]|     0|\n",
            "|          [24.0,2.0]| 30000|\n",
            "|          [24.0,6.0]| 50000|\n",
            "|          [24.0,2.0]| 35000|\n",
            "|          [24.0,1.0]| 40000|\n",
            "|          [23.0,4.0]| 65000|\n",
            "+--------------------+------+\n",
            "\n"
          ],
          "name": "stdout"
        }
      ]
    },
    {
      "cell_type": "code",
      "metadata": {
        "id": "0Sl-oFtfegoQ"
      },
      "source": [
        "from pyspark.ml.regression import LinearRegression\n",
        "\n",
        "\n",
        "##train test split\n",
        "train_data,test_data=finalized_data.randomSplit([0.75,0.25])\n",
        "regressor=LinearRegression(featuresCol='Independent Features',labelCol='Salary')\n",
        "regressor=regressor.fit(train_data)\n"
      ],
      "execution_count": 19,
      "outputs": []
    },
    {
      "cell_type": "code",
      "metadata": {
        "colab": {
          "base_uri": "https://localhost:8080/"
        },
        "id": "qS5JTDChfVH4",
        "outputId": "b74b75fe-b85a-4d27-f895-2343c3bff317"
      },
      "source": [
        "### Coefficients\n",
        "\n",
        "regressor.coefficients"
      ],
      "execution_count": 20,
      "outputs": [
        {
          "output_type": "execute_result",
          "data": {
            "text/plain": [
              "DenseVector([-23750.0, 4375.0])"
            ]
          },
          "metadata": {
            "tags": []
          },
          "execution_count": 20
        }
      ]
    },
    {
      "cell_type": "code",
      "metadata": {
        "colab": {
          "base_uri": "https://localhost:8080/"
        },
        "id": "mTeDt3-jfa56",
        "outputId": "854a4ddf-4e33-426e-9df5-8642799b8659"
      },
      "source": [
        "### Intercepts\n",
        "\n",
        "regressor.intercept"
      ],
      "execution_count": 21,
      "outputs": [
        {
          "output_type": "execute_result",
          "data": {
            "text/plain": [
              "593750.000000153"
            ]
          },
          "metadata": {
            "tags": []
          },
          "execution_count": 21
        }
      ]
    },
    {
      "cell_type": "code",
      "metadata": {
        "id": "lTmVZGtDffZ8"
      },
      "source": [
        "### Prediction\n",
        "\n",
        "pred_results=regressor.evaluate(test_data)"
      ],
      "execution_count": 22,
      "outputs": []
    },
    {
      "cell_type": "code",
      "metadata": {
        "colab": {
          "base_uri": "https://localhost:8080/"
        },
        "id": "hMj8NM5kfrnT",
        "outputId": "f13490da-30a8-4b90-be34-07e3796563bb"
      },
      "source": [
        "pred_results.predictions.show()"
      ],
      "execution_count": 23,
      "outputs": [
        {
          "output_type": "stream",
          "text": [
            "+--------------------+------+-----------------+\n",
            "|Independent Features|Salary|       prediction|\n",
            "+--------------------+------+-----------------+\n",
            "|          [24.0,1.0]| 40000|28125.00000000291|\n",
            "|          [24.0,2.0]| 30000|32500.00000000163|\n",
            "|          [24.0,2.0]| 35000|32500.00000000163|\n",
            "+--------------------+------+-----------------+\n",
            "\n"
          ],
          "name": "stdout"
        }
      ]
    },
    {
      "cell_type": "code",
      "metadata": {
        "colab": {
          "base_uri": "https://localhost:8080/"
        },
        "id": "dX75CX7Yfxei",
        "outputId": "dca37766-57f8-4f9c-c9b5-d6f5858c0bae"
      },
      "source": [
        "pred_results.meanAbsoluteError,pred_results.meanSquaredError"
      ],
      "execution_count": 24,
      "outputs": [
        {
          "output_type": "execute_result",
          "data": {
            "text/plain": [
              "(5624.99999999903, 51171874.99997697)"
            ]
          },
          "metadata": {
            "tags": []
          },
          "execution_count": 24
        }
      ]
    }
  ]
}