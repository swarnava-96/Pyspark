{
  "nbformat": 4,
  "nbformat_minor": 0,
  "metadata": {
    "colab": {
      "name": "Pyspark2",
      "provenance": [],
      "collapsed_sections": [],
      "mount_file_id": "1cXx6M-OAn0UphCQE7FHnkds4rWmAagIF",
      "authorship_tag": "ABX9TyMmUInEUfdsSjJs5BhiF4Em",
      "include_colab_link": true
    },
    "kernelspec": {
      "name": "python3",
      "display_name": "Python 3"
    },
    "language_info": {
      "name": "python"
    }
  },
  "cells": [
    {
      "cell_type": "markdown",
      "metadata": {
        "id": "view-in-github",
        "colab_type": "text"
      },
      "source": [
        "<a href=\"https://colab.research.google.com/github/swarnava-96/Pyspark/blob/main/Pyspark2.ipynb\" target=\"_parent\"><img src=\"https://colab.research.google.com/assets/colab-badge.svg\" alt=\"Open In Colab\"/></a>"
      ]
    },
    {
      "cell_type": "markdown",
      "metadata": {
        "id": "ca-2KADauYS4"
      },
      "source": [
        "## TOPICS COVERED:\n",
        "\n",
        "\n",
        "##### 1.PySpark Dataframe\n",
        "##### 2.Reading The Dataset\n",
        "##### 3.Checking the Datatypes of the Column(Schema)\n",
        "##### 4.Selecting Columns And Indexing\n",
        "##### 5.Check Describe option similar to Pandas\n",
        "##### 6.Adding Columns\n",
        "##### 7.Dropping columns\n",
        "##### 8.Renaming Columns"
      ]
    },
    {
      "cell_type": "code",
      "metadata": {
        "colab": {
          "base_uri": "https://localhost:8080/"
        },
        "id": "_-9a4JDBu8Vc",
        "outputId": "0769af12-8a63-47ab-b0dd-646b3f4806a1"
      },
      "source": [
        "!pip install pyspark"
      ],
      "execution_count": null,
      "outputs": [
        {
          "output_type": "stream",
          "text": [
            "Collecting pyspark\n",
            "\u001b[?25l  Downloading https://files.pythonhosted.org/packages/89/db/e18cfd78e408de957821ec5ca56de1250645b05f8523d169803d8df35a64/pyspark-3.1.2.tar.gz (212.4MB)\n",
            "\u001b[K     |████████████████████████████████| 212.4MB 63kB/s \n",
            "\u001b[?25hCollecting py4j==0.10.9\n",
            "\u001b[?25l  Downloading https://files.pythonhosted.org/packages/9e/b6/6a4fb90cd235dc8e265a6a2067f2a2c99f0d91787f06aca4bcf7c23f3f80/py4j-0.10.9-py2.py3-none-any.whl (198kB)\n",
            "\u001b[K     |████████████████████████████████| 204kB 18.1MB/s \n",
            "\u001b[?25hBuilding wheels for collected packages: pyspark\n",
            "  Building wheel for pyspark (setup.py) ... \u001b[?25l\u001b[?25hdone\n",
            "  Created wheel for pyspark: filename=pyspark-3.1.2-py2.py3-none-any.whl size=212880768 sha256=7cdd8d5e3aa8ac4b468aaba68ecb6dc4c19db16ea894895112cd12220c8aab23\n",
            "  Stored in directory: /root/.cache/pip/wheels/40/1b/2c/30f43be2627857ab80062bef1527c0128f7b4070b6b2d02139\n",
            "Successfully built pyspark\n",
            "Installing collected packages: py4j, pyspark\n",
            "Successfully installed py4j-0.10.9 pyspark-3.1.2\n"
          ],
          "name": "stdout"
        }
      ]
    },
    {
      "cell_type": "markdown",
      "metadata": {
        "id": "NjGw5YpCvhCv"
      },
      "source": [
        "### PySpark Dataframe,Reading The Dataset,Checking the Datatypes of the Column(Schema)."
      ]
    },
    {
      "cell_type": "code",
      "metadata": {
        "id": "ezAuj5fPvh-m"
      },
      "source": [
        "from pyspark.sql import SparkSession"
      ],
      "execution_count": null,
      "outputs": []
    },
    {
      "cell_type": "code",
      "metadata": {
        "id": "1MdTaYeSvttp"
      },
      "source": [
        "spark=SparkSession.builder.appName('Dataframe').getOrCreate()"
      ],
      "execution_count": null,
      "outputs": []
    },
    {
      "cell_type": "code",
      "metadata": {
        "colab": {
          "base_uri": "https://localhost:8080/",
          "height": 216
        },
        "id": "VdLOIBQBxdAz",
        "outputId": "75ce5d96-88e0-4616-cdd5-d9cb36d218f6"
      },
      "source": [
        "spark"
      ],
      "execution_count": null,
      "outputs": [
        {
          "output_type": "execute_result",
          "data": {
            "text/html": [
              "\n",
              "            <div>\n",
              "                <p><b>SparkSession - in-memory</b></p>\n",
              "                \n",
              "        <div>\n",
              "            <p><b>SparkContext</b></p>\n",
              "\n",
              "            <p><a href=\"http://6e111b2b1522:4040\">Spark UI</a></p>\n",
              "\n",
              "            <dl>\n",
              "              <dt>Version</dt>\n",
              "                <dd><code>v3.1.2</code></dd>\n",
              "              <dt>Master</dt>\n",
              "                <dd><code>local[*]</code></dd>\n",
              "              <dt>AppName</dt>\n",
              "                <dd><code>Dataframe</code></dd>\n",
              "            </dl>\n",
              "        </div>\n",
              "        \n",
              "            </div>\n",
              "        "
            ],
            "text/plain": [
              "<pyspark.sql.session.SparkSession at 0x7fd39eef9990>"
            ]
          },
          "metadata": {
            "tags": []
          },
          "execution_count": 4
        }
      ]
    },
    {
      "cell_type": "markdown",
      "metadata": {
        "id": "ytcX1KbH3Bxw"
      },
      "source": [
        "##### Reading the dataset option 1"
      ]
    },
    {
      "cell_type": "code",
      "metadata": {
        "id": "ZVu1qyt4xhBZ"
      },
      "source": [
        "df_pyspark=spark.read.option('header','true').csv('/content/drive/MyDrive/Datasets/test1.csv')"
      ],
      "execution_count": null,
      "outputs": []
    },
    {
      "cell_type": "code",
      "metadata": {
        "colab": {
          "base_uri": "https://localhost:8080/"
        },
        "id": "SvOX1MfT3d4C",
        "outputId": "f33e7c4f-56cf-4ccd-fd6a-90314d79b8c3"
      },
      "source": [
        "##check the schema\n",
        "\n",
        "df_pyspark.printSchema()"
      ],
      "execution_count": null,
      "outputs": [
        {
          "output_type": "stream",
          "text": [
            "root\n",
            " |-- Name: string (nullable = true)\n",
            " |-- Age: string (nullable = true)\n",
            " |-- Experience: string (nullable = true)\n",
            " |-- Salary: string (nullable = true)\n",
            "\n"
          ],
          "name": "stdout"
        }
      ]
    },
    {
      "cell_type": "code",
      "metadata": {
        "colab": {
          "base_uri": "https://localhost:8080/"
        },
        "id": "BP89sbwPzsNv",
        "outputId": "97df5a5f-b646-4e52-93c2-64e3db133510"
      },
      "source": [
        "df_pyspark=spark.read.option('header','true').csv('/content/drive/MyDrive/Datasets/test1.csv').show()"
      ],
      "execution_count": null,
      "outputs": [
        {
          "output_type": "stream",
          "text": [
            "+--------+---+----------+------+\n",
            "|    Name|Age|Experience|Salary|\n",
            "+--------+---+----------+------+\n",
            "|Swarnava| 25|         0|     0|\n",
            "|Abhishek| 24|         2| 30000|\n",
            "| Pushpok| 24|         6| 50000|\n",
            "|  Deeyan| 24|         2| 35000|\n",
            "| Swastik| 24|         1| 40000|\n",
            "|  Pranoy| 23|         4| 65000|\n",
            "+--------+---+----------+------+\n",
            "\n"
          ],
          "name": "stdout"
        }
      ]
    },
    {
      "cell_type": "markdown",
      "metadata": {
        "id": "swEiNyHU4BOV"
      },
      "source": [
        "#### Reading the dataset option 2"
      ]
    },
    {
      "cell_type": "code",
      "metadata": {
        "id": "MY242VQ74DwX"
      },
      "source": [
        "df_pyspark=spark.read.option('header','true').csv('/content/drive/MyDrive/Datasets/test1.csv',inferSchema=True)"
      ],
      "execution_count": null,
      "outputs": []
    },
    {
      "cell_type": "code",
      "metadata": {
        "colab": {
          "base_uri": "https://localhost:8080/"
        },
        "id": "_cp4nMtM4eEG",
        "outputId": "506382fb-f143-4764-c78b-042f8943c725"
      },
      "source": [
        "df_pyspark.printSchema()"
      ],
      "execution_count": null,
      "outputs": [
        {
          "output_type": "stream",
          "text": [
            "root\n",
            " |-- Name: string (nullable = true)\n",
            " |-- Age: integer (nullable = true)\n",
            " |-- Experience: integer (nullable = true)\n",
            " |-- Salary: integer (nullable = true)\n",
            "\n"
          ],
          "name": "stdout"
        }
      ]
    },
    {
      "cell_type": "markdown",
      "metadata": {
        "id": "wd-pOpYS4wBB"
      },
      "source": [
        "#### Reading the dataset option 3"
      ]
    },
    {
      "cell_type": "code",
      "metadata": {
        "id": "ruixX_op4xry"
      },
      "source": [
        "df_pyspark=spark.read.csv('/content/drive/MyDrive/Datasets/test1.csv',header=True,inferSchema=True)"
      ],
      "execution_count": null,
      "outputs": []
    },
    {
      "cell_type": "code",
      "metadata": {
        "colab": {
          "base_uri": "https://localhost:8080/"
        },
        "id": "pfFnIvjt5Hm5",
        "outputId": "be0ff29e-afb0-439c-e9df-49c176da910b"
      },
      "source": [
        "df_pyspark.show()"
      ],
      "execution_count": null,
      "outputs": [
        {
          "output_type": "stream",
          "text": [
            "+--------+---+----------+------+\n",
            "|    Name|Age|Experience|Salary|\n",
            "+--------+---+----------+------+\n",
            "|Swarnava| 25|         0|     0|\n",
            "|Abhishek| 24|         2| 30000|\n",
            "| Pushpok| 24|         6| 50000|\n",
            "|  Deeyan| 24|         2| 35000|\n",
            "| Swastik| 24|         1| 40000|\n",
            "|  Pranoy| 23|         4| 65000|\n",
            "+--------+---+----------+------+\n",
            "\n"
          ],
          "name": "stdout"
        }
      ]
    },
    {
      "cell_type": "code",
      "metadata": {
        "colab": {
          "base_uri": "https://localhost:8080/"
        },
        "id": "gH4pX6Xo5LQK",
        "outputId": "bf23b967-af7d-4853-825c-382bb72009e9"
      },
      "source": [
        "df_pyspark.printSchema()"
      ],
      "execution_count": null,
      "outputs": [
        {
          "output_type": "stream",
          "text": [
            "root\n",
            " |-- Name: string (nullable = true)\n",
            " |-- Age: integer (nullable = true)\n",
            " |-- Experience: integer (nullable = true)\n",
            " |-- Salary: integer (nullable = true)\n",
            "\n"
          ],
          "name": "stdout"
        }
      ]
    },
    {
      "cell_type": "code",
      "metadata": {
        "colab": {
          "base_uri": "https://localhost:8080/"
        },
        "id": "hF3Y39XA5TMJ",
        "outputId": "fd5b56d4-abc7-4711-d57e-d317bbaf11c9"
      },
      "source": [
        "type(df_pyspark)"
      ],
      "execution_count": null,
      "outputs": [
        {
          "output_type": "execute_result",
          "data": {
            "text/plain": [
              "pyspark.sql.dataframe.DataFrame"
            ]
          },
          "metadata": {
            "tags": []
          },
          "execution_count": 24
        }
      ]
    },
    {
      "cell_type": "markdown",
      "metadata": {
        "id": "QkK5gZUs57E6"
      },
      "source": [
        "### Selecting Columns And Indexing"
      ]
    },
    {
      "cell_type": "code",
      "metadata": {
        "colab": {
          "base_uri": "https://localhost:8080/"
        },
        "id": "Go_8r-4B58Ht",
        "outputId": "669ece03-af92-467a-d7ff-33fa8b96aa21"
      },
      "source": [
        "df_pyspark.columns"
      ],
      "execution_count": null,
      "outputs": [
        {
          "output_type": "execute_result",
          "data": {
            "text/plain": [
              "['Name', 'Age', 'Experience', 'Salary']"
            ]
          },
          "metadata": {
            "tags": []
          },
          "execution_count": 25
        }
      ]
    },
    {
      "cell_type": "code",
      "metadata": {
        "colab": {
          "base_uri": "https://localhost:8080/"
        },
        "id": "p4uM3m305-5L",
        "outputId": "2b635cad-db86-4cbc-e9db-3e759c0f45a1"
      },
      "source": [
        "df_pyspark.head(3)"
      ],
      "execution_count": null,
      "outputs": [
        {
          "output_type": "execute_result",
          "data": {
            "text/plain": [
              "[Row(Name='Swarnava', Age=25, Experience=0, Salary=0),\n",
              " Row(Name='Abhishek', Age=24, Experience=2, Salary=30000),\n",
              " Row(Name='Pushpok', Age=24, Experience=6, Salary=50000)]"
            ]
          },
          "metadata": {
            "tags": []
          },
          "execution_count": 26
        }
      ]
    },
    {
      "cell_type": "code",
      "metadata": {
        "colab": {
          "base_uri": "https://localhost:8080/"
        },
        "id": "oH2gwh3r6F1Q",
        "outputId": "9b8fd801-8276-4157-a680-d9d9f2e02a37"
      },
      "source": [
        "##selecting any particular column\n",
        "\n",
        "df_pyspark.select('Name')"
      ],
      "execution_count": null,
      "outputs": [
        {
          "output_type": "execute_result",
          "data": {
            "text/plain": [
              "DataFrame[Name: string]"
            ]
          },
          "metadata": {
            "tags": []
          },
          "execution_count": 27
        }
      ]
    },
    {
      "cell_type": "code",
      "metadata": {
        "colab": {
          "base_uri": "https://localhost:8080/"
        },
        "id": "rXFW9vbc6YxC",
        "outputId": "21d34efb-2517-484b-cd0f-991a64193503"
      },
      "source": [
        "df_pyspark.select('Name').show()"
      ],
      "execution_count": null,
      "outputs": [
        {
          "output_type": "stream",
          "text": [
            "+--------+\n",
            "|    Name|\n",
            "+--------+\n",
            "|Swarnava|\n",
            "|Abhishek|\n",
            "| Pushpok|\n",
            "|  Deeyan|\n",
            "| Swastik|\n",
            "|  Pranoy|\n",
            "+--------+\n",
            "\n"
          ],
          "name": "stdout"
        }
      ]
    },
    {
      "cell_type": "code",
      "metadata": {
        "colab": {
          "base_uri": "https://localhost:8080/"
        },
        "id": "G3BVPjaP6elL",
        "outputId": "63a25e72-10fd-45f9-d56f-55e96b7d2c40"
      },
      "source": [
        "type(df_pyspark.select('Name'))"
      ],
      "execution_count": null,
      "outputs": [
        {
          "output_type": "execute_result",
          "data": {
            "text/plain": [
              "pyspark.sql.dataframe.DataFrame"
            ]
          },
          "metadata": {
            "tags": []
          },
          "execution_count": 29
        }
      ]
    },
    {
      "cell_type": "code",
      "metadata": {
        "colab": {
          "base_uri": "https://localhost:8080/"
        },
        "id": "Nm7czNqP6n10",
        "outputId": "a02e669b-c5c4-48a3-ea5c-3f95c7a3e46c"
      },
      "source": [
        "##selecting multiple columns\n",
        "\n",
        "df_pyspark.select(['Name','Experience'])"
      ],
      "execution_count": null,
      "outputs": [
        {
          "output_type": "execute_result",
          "data": {
            "text/plain": [
              "DataFrame[Name: string, Experience: int]"
            ]
          },
          "metadata": {
            "tags": []
          },
          "execution_count": 30
        }
      ]
    },
    {
      "cell_type": "code",
      "metadata": {
        "colab": {
          "base_uri": "https://localhost:8080/"
        },
        "id": "_qXKJsMH694_",
        "outputId": "e2eb2bd6-0065-431c-a70e-f0700e06904a"
      },
      "source": [
        "df_pyspark.select(['Name','Experience']).show()"
      ],
      "execution_count": null,
      "outputs": [
        {
          "output_type": "stream",
          "text": [
            "+--------+----------+\n",
            "|    Name|Experience|\n",
            "+--------+----------+\n",
            "|Swarnava|         0|\n",
            "|Abhishek|         2|\n",
            "| Pushpok|         6|\n",
            "|  Deeyan|         2|\n",
            "| Swastik|         1|\n",
            "|  Pranoy|         4|\n",
            "+--------+----------+\n",
            "\n"
          ],
          "name": "stdout"
        }
      ]
    },
    {
      "cell_type": "code",
      "metadata": {
        "colab": {
          "base_uri": "https://localhost:8080/"
        },
        "id": "sAyv8kh47GCL",
        "outputId": "138512f1-3750-48af-949d-0e1e169455ac"
      },
      "source": [
        "##checking the datatypes\n",
        "\n",
        "df_pyspark.dtypes"
      ],
      "execution_count": null,
      "outputs": [
        {
          "output_type": "execute_result",
          "data": {
            "text/plain": [
              "[('Name', 'string'), ('Age', 'int'), ('Experience', 'int'), ('Salary', 'int')]"
            ]
          },
          "metadata": {
            "tags": []
          },
          "execution_count": 32
        }
      ]
    },
    {
      "cell_type": "markdown",
      "metadata": {
        "id": "je0xP-Bc7fwM"
      },
      "source": [
        "### Check Describe option similar to Pandas"
      ]
    },
    {
      "cell_type": "code",
      "metadata": {
        "colab": {
          "base_uri": "https://localhost:8080/"
        },
        "id": "TcRP_nGm7gh1",
        "outputId": "d83245a8-845c-443b-9eb5-802b4f98173d"
      },
      "source": [
        "df_pyspark.describe()"
      ],
      "execution_count": null,
      "outputs": [
        {
          "output_type": "execute_result",
          "data": {
            "text/plain": [
              "DataFrame[summary: string, Name: string, Age: string, Experience: string, Salary: string]"
            ]
          },
          "metadata": {
            "tags": []
          },
          "execution_count": 33
        }
      ]
    },
    {
      "cell_type": "code",
      "metadata": {
        "colab": {
          "base_uri": "https://localhost:8080/"
        },
        "id": "QRbAQb1p7nIu",
        "outputId": "98724374-9f40-4f3a-e5cb-3a64898d3f8d"
      },
      "source": [
        "df_pyspark.describe().show()"
      ],
      "execution_count": null,
      "outputs": [
        {
          "output_type": "stream",
          "text": [
            "+-------+--------+------------------+----------------+------------------+\n",
            "|summary|    Name|               Age|      Experience|            Salary|\n",
            "+-------+--------+------------------+----------------+------------------+\n",
            "|  count|       6|                 6|               6|                 6|\n",
            "|   mean|    null|              24.0|             2.5|36666.666666666664|\n",
            "| stddev|    null|0.6324555320336755|2.16794833886788| 21832.69719175042|\n",
            "|    min|Abhishek|                23|               0|                 0|\n",
            "|    max| Swastik|                25|               6|             65000|\n",
            "+-------+--------+------------------+----------------+------------------+\n",
            "\n"
          ],
          "name": "stdout"
        }
      ]
    },
    {
      "cell_type": "markdown",
      "metadata": {
        "id": "HhpSq1kI8g_y"
      },
      "source": [
        "### Adding Columns"
      ]
    },
    {
      "cell_type": "code",
      "metadata": {
        "id": "UjFnxgNv8iPS"
      },
      "source": [
        "df_pyspark=df_pyspark.withColumn('Experience after 2 years',df_pyspark['Experience']+2)"
      ],
      "execution_count": null,
      "outputs": []
    },
    {
      "cell_type": "code",
      "metadata": {
        "colab": {
          "base_uri": "https://localhost:8080/"
        },
        "id": "Nr-Uw_au85aK",
        "outputId": "49461d97-30a1-4294-ecd1-0762a6565225"
      },
      "source": [
        "df_pyspark.show()"
      ],
      "execution_count": null,
      "outputs": [
        {
          "output_type": "stream",
          "text": [
            "+--------+---+----------+------+------------------------+\n",
            "|    Name|Age|Experience|Salary|Experience after 2 years|\n",
            "+--------+---+----------+------+------------------------+\n",
            "|Swarnava| 25|         0|     0|                       2|\n",
            "|Abhishek| 24|         2| 30000|                       4|\n",
            "| Pushpok| 24|         6| 50000|                       8|\n",
            "|  Deeyan| 24|         2| 35000|                       4|\n",
            "| Swastik| 24|         1| 40000|                       3|\n",
            "|  Pranoy| 23|         4| 65000|                       6|\n",
            "+--------+---+----------+------+------------------------+\n",
            "\n"
          ],
          "name": "stdout"
        }
      ]
    },
    {
      "cell_type": "markdown",
      "metadata": {
        "id": "KQYapeYx9niK"
      },
      "source": [
        "### Dropping columns"
      ]
    },
    {
      "cell_type": "code",
      "metadata": {
        "id": "9r0wTKRv9oVv"
      },
      "source": [
        "df_pyspark=df_pyspark.drop('Experience after 2 years')"
      ],
      "execution_count": null,
      "outputs": []
    },
    {
      "cell_type": "code",
      "metadata": {
        "colab": {
          "base_uri": "https://localhost:8080/"
        },
        "id": "jQnpfxXD9vge",
        "outputId": "264588c7-c6d4-4aa9-ca26-382cd7379d13"
      },
      "source": [
        "df_pyspark.show()"
      ],
      "execution_count": null,
      "outputs": [
        {
          "output_type": "stream",
          "text": [
            "+--------+---+----------+------+\n",
            "|    Name|Age|Experience|Salary|\n",
            "+--------+---+----------+------+\n",
            "|Swarnava| 25|         0|     0|\n",
            "|Abhishek| 24|         2| 30000|\n",
            "| Pushpok| 24|         6| 50000|\n",
            "|  Deeyan| 24|         2| 35000|\n",
            "| Swastik| 24|         1| 40000|\n",
            "|  Pranoy| 23|         4| 65000|\n",
            "+--------+---+----------+------+\n",
            "\n"
          ],
          "name": "stdout"
        }
      ]
    },
    {
      "cell_type": "markdown",
      "metadata": {
        "id": "9lnyUkTq-DIs"
      },
      "source": [
        "### Renaming Columns"
      ]
    },
    {
      "cell_type": "code",
      "metadata": {
        "id": "Rsgxxwz--EBa"
      },
      "source": [
        "df_pyspark=df_pyspark.withColumnRenamed('Name','New Name')"
      ],
      "execution_count": null,
      "outputs": []
    },
    {
      "cell_type": "code",
      "metadata": {
        "colab": {
          "base_uri": "https://localhost:8080/"
        },
        "id": "4ExNVCgr-XfF",
        "outputId": "d39b4ead-2ccd-47b4-f767-d42a6cd2a17c"
      },
      "source": [
        "df_pyspark.show()"
      ],
      "execution_count": null,
      "outputs": [
        {
          "output_type": "stream",
          "text": [
            "+--------+---+----------+------+\n",
            "|New Name|Age|Experience|Salary|\n",
            "+--------+---+----------+------+\n",
            "|Swarnava| 25|         0|     0|\n",
            "|Abhishek| 24|         2| 30000|\n",
            "| Pushpok| 24|         6| 50000|\n",
            "|  Deeyan| 24|         2| 35000|\n",
            "| Swastik| 24|         1| 40000|\n",
            "|  Pranoy| 23|         4| 65000|\n",
            "+--------+---+----------+------+\n",
            "\n"
          ],
          "name": "stdout"
        }
      ]
    }
  ]
}