{
  "nbformat": 4,
  "nbformat_minor": 0,
  "metadata": {
    "colab": {
      "name": "Pyspark4",
      "provenance": [],
      "collapsed_sections": [],
      "mount_file_id": "1whXcPM-vMDlZsaiNHlatZrSFkrhlkXKk",
      "authorship_tag": "ABX9TyM8AaV7nE7EBE8cCXSCDcUR",
      "include_colab_link": true
    },
    "kernelspec": {
      "name": "python3",
      "display_name": "Python 3"
    },
    "language_info": {
      "name": "python"
    }
  },
  "cells": [
    {
      "cell_type": "markdown",
      "metadata": {
        "id": "view-in-github",
        "colab_type": "text"
      },
      "source": [
        "<a href=\"https://colab.research.google.com/github/swarnava-96/Pyspark/blob/main/Pyspark4.ipynb\" target=\"_parent\"><img src=\"https://colab.research.google.com/assets/colab-badge.svg\" alt=\"Open In Colab\"/></a>"
      ]
    },
    {
      "cell_type": "markdown",
      "metadata": {
        "id": "KZB2IHm1x-SE"
      },
      "source": [
        "# Pyspark Dataframes"
      ]
    },
    {
      "cell_type": "code",
      "metadata": {
        "colab": {
          "base_uri": "https://localhost:8080/"
        },
        "id": "yZ5lqhYiyABj",
        "outputId": "e6172614-3304-4988-d55f-f5a4d7323902"
      },
      "source": [
        "!pip install pyspark"
      ],
      "execution_count": 1,
      "outputs": [
        {
          "output_type": "stream",
          "text": [
            "Collecting pyspark\n",
            "\u001b[?25l  Downloading https://files.pythonhosted.org/packages/89/db/e18cfd78e408de957821ec5ca56de1250645b05f8523d169803d8df35a64/pyspark-3.1.2.tar.gz (212.4MB)\n",
            "\u001b[K     |████████████████████████████████| 212.4MB 72kB/s \n",
            "\u001b[?25hCollecting py4j==0.10.9\n",
            "\u001b[?25l  Downloading https://files.pythonhosted.org/packages/9e/b6/6a4fb90cd235dc8e265a6a2067f2a2c99f0d91787f06aca4bcf7c23f3f80/py4j-0.10.9-py2.py3-none-any.whl (198kB)\n",
            "\u001b[K     |████████████████████████████████| 204kB 19.1MB/s \n",
            "\u001b[?25hBuilding wheels for collected packages: pyspark\n",
            "  Building wheel for pyspark (setup.py) ... \u001b[?25l\u001b[?25hdone\n",
            "  Created wheel for pyspark: filename=pyspark-3.1.2-py2.py3-none-any.whl size=212880768 sha256=556e3a34db052a6a50296b89fead1aa903c6cf8b64e278e38640fc2606e03364\n",
            "  Stored in directory: /root/.cache/pip/wheels/40/1b/2c/30f43be2627857ab80062bef1527c0128f7b4070b6b2d02139\n",
            "Successfully built pyspark\n",
            "Installing collected packages: py4j, pyspark\n",
            "Successfully installed py4j-0.10.9 pyspark-3.1.2\n"
          ],
          "name": "stdout"
        }
      ]
    },
    {
      "cell_type": "code",
      "metadata": {
        "id": "G668Ta6PyCgD"
      },
      "source": [
        "from pyspark.sql import SparkSession"
      ],
      "execution_count": 2,
      "outputs": []
    },
    {
      "cell_type": "code",
      "metadata": {
        "id": "9inZWMgZyf9i"
      },
      "source": [
        "spark=SparkSession.builder.appName('Dataframe').getOrCreate()"
      ],
      "execution_count": 3,
      "outputs": []
    },
    {
      "cell_type": "code",
      "metadata": {
        "colab": {
          "base_uri": "https://localhost:8080/",
          "height": 216
        },
        "id": "Ys72TrNOyoTb",
        "outputId": "07f3670f-14e3-45f3-d40c-443e18ecc91e"
      },
      "source": [
        "spark"
      ],
      "execution_count": 4,
      "outputs": [
        {
          "output_type": "execute_result",
          "data": {
            "text/html": [
              "\n",
              "            <div>\n",
              "                <p><b>SparkSession - in-memory</b></p>\n",
              "                \n",
              "        <div>\n",
              "            <p><b>SparkContext</b></p>\n",
              "\n",
              "            <p><a href=\"http://98d2ec8a9680:4040\">Spark UI</a></p>\n",
              "\n",
              "            <dl>\n",
              "              <dt>Version</dt>\n",
              "                <dd><code>v3.1.2</code></dd>\n",
              "              <dt>Master</dt>\n",
              "                <dd><code>local[*]</code></dd>\n",
              "              <dt>AppName</dt>\n",
              "                <dd><code>Dataframe</code></dd>\n",
              "            </dl>\n",
              "        </div>\n",
              "        \n",
              "            </div>\n",
              "        "
            ],
            "text/plain": [
              "<pyspark.sql.session.SparkSession at 0x7f87bdb8a250>"
            ]
          },
          "metadata": {
            "tags": []
          },
          "execution_count": 4
        }
      ]
    },
    {
      "cell_type": "code",
      "metadata": {
        "colab": {
          "base_uri": "https://localhost:8080/"
        },
        "id": "5wDhSNxxyq9f",
        "outputId": "f9088ed3-182b-4fa0-d728-6ea3e65fa20a"
      },
      "source": [
        "df_pyspark=spark.read.csv('/content/drive/MyDrive/Datasets/test1.csv',header=True,inferSchema=True)\n",
        "df_pyspark.show()"
      ],
      "execution_count": 5,
      "outputs": [
        {
          "output_type": "stream",
          "text": [
            "+--------+---+----------+------+\n",
            "|    Name|Age|Experience|Salary|\n",
            "+--------+---+----------+------+\n",
            "|Swarnava| 25|         0|     0|\n",
            "|Abhishek| 24|         2| 30000|\n",
            "| Pushpok| 24|         6| 50000|\n",
            "|  Deeyan| 24|         2| 35000|\n",
            "| Swastik| 24|         1| 40000|\n",
            "|  Pranoy| 23|         4| 65000|\n",
            "+--------+---+----------+------+\n",
            "\n"
          ],
          "name": "stdout"
        }
      ]
    },
    {
      "cell_type": "markdown",
      "metadata": {
        "id": "iUouij3xzQCT"
      },
      "source": [
        "## Filter Operations"
      ]
    },
    {
      "cell_type": "code",
      "metadata": {
        "colab": {
          "base_uri": "https://localhost:8080/"
        },
        "id": "As4NK-f8zQ1I",
        "outputId": "ba9be34d-eb2a-4e6e-c2da-257d0de70ebf"
      },
      "source": [
        "##Salary of the prople less than or equal to 40000\n",
        "\n",
        "df_pyspark.filter('Salary<=40000').show()\n",
        "\n"
      ],
      "execution_count": 6,
      "outputs": [
        {
          "output_type": "stream",
          "text": [
            "+--------+---+----------+------+\n",
            "|    Name|Age|Experience|Salary|\n",
            "+--------+---+----------+------+\n",
            "|Swarnava| 25|         0|     0|\n",
            "|Abhishek| 24|         2| 30000|\n",
            "|  Deeyan| 24|         2| 35000|\n",
            "| Swastik| 24|         1| 40000|\n",
            "+--------+---+----------+------+\n",
            "\n"
          ],
          "name": "stdout"
        }
      ]
    },
    {
      "cell_type": "code",
      "metadata": {
        "colab": {
          "base_uri": "https://localhost:8080/"
        },
        "id": "z-a2D6oIzrPJ",
        "outputId": "c4aca53d-c70b-4e89-d1da-8d7ba918e06a"
      },
      "source": [
        "df_pyspark.filter('Salary<=40000').select((['Name','Age'])).show()"
      ],
      "execution_count": 7,
      "outputs": [
        {
          "output_type": "stream",
          "text": [
            "+--------+---+\n",
            "|    Name|Age|\n",
            "+--------+---+\n",
            "|Swarnava| 25|\n",
            "|Abhishek| 24|\n",
            "|  Deeyan| 24|\n",
            "| Swastik| 24|\n",
            "+--------+---+\n",
            "\n"
          ],
          "name": "stdout"
        }
      ]
    },
    {
      "cell_type": "code",
      "metadata": {
        "colab": {
          "base_uri": "https://localhost:8080/"
        },
        "id": "E8O677Qc0YYT",
        "outputId": "45d97e52-47d3-4823-83bf-aa0a5cf23b3d"
      },
      "source": [
        "##Alternative way:\n",
        "\n",
        "df_pyspark.filter(df_pyspark['Salary']<=40000).show()"
      ],
      "execution_count": 8,
      "outputs": [
        {
          "output_type": "stream",
          "text": [
            "+--------+---+----------+------+\n",
            "|    Name|Age|Experience|Salary|\n",
            "+--------+---+----------+------+\n",
            "|Swarnava| 25|         0|     0|\n",
            "|Abhishek| 24|         2| 30000|\n",
            "|  Deeyan| 24|         2| 35000|\n",
            "| Swastik| 24|         1| 40000|\n",
            "+--------+---+----------+------+\n",
            "\n"
          ],
          "name": "stdout"
        }
      ]
    },
    {
      "cell_type": "code",
      "metadata": {
        "colab": {
          "base_uri": "https://localhost:8080/"
        },
        "id": "kc_29IxJ0pI5",
        "outputId": "8ab3cca0-a36a-405a-a27e-00ea4c101729"
      },
      "source": [
        "##Salary of the prople less than or equal to 40000 & greater than 30000\n",
        "\n",
        "df_pyspark.filter((df_pyspark['Salary']<=40000) & \n",
        "                  (df_pyspark['Salary']>=30000)).show()"
      ],
      "execution_count": 11,
      "outputs": [
        {
          "output_type": "stream",
          "text": [
            "+--------+---+----------+------+\n",
            "|    Name|Age|Experience|Salary|\n",
            "+--------+---+----------+------+\n",
            "|Abhishek| 24|         2| 30000|\n",
            "|  Deeyan| 24|         2| 35000|\n",
            "| Swastik| 24|         1| 40000|\n",
            "+--------+---+----------+------+\n",
            "\n"
          ],
          "name": "stdout"
        }
      ]
    },
    {
      "cell_type": "code",
      "metadata": {
        "colab": {
          "base_uri": "https://localhost:8080/"
        },
        "id": "QTqBT_ix1hNq",
        "outputId": "f9dabb7f-ed09-4ee5-95a0-30967ac33fa4"
      },
      "source": [
        "##Inverse(NOT) operation\n",
        "\n",
        "df_pyspark.filter(~(df_pyspark['Salary']<=40000)).show()"
      ],
      "execution_count": 13,
      "outputs": [
        {
          "output_type": "stream",
          "text": [
            "+-------+---+----------+------+\n",
            "|   Name|Age|Experience|Salary|\n",
            "+-------+---+----------+------+\n",
            "|Pushpok| 24|         6| 50000|\n",
            "| Pranoy| 23|         4| 65000|\n",
            "+-------+---+----------+------+\n",
            "\n"
          ],
          "name": "stdout"
        }
      ]
    }
  ]
}