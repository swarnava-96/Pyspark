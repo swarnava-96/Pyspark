{
  "nbformat": 4,
  "nbformat_minor": 0,
  "metadata": {
    "colab": {
      "name": "Pyspark3",
      "provenance": [],
      "collapsed_sections": [],
      "mount_file_id": "1IcYlwksQn7ouI_b4kIz2s-HxMK_-7hH3",
      "authorship_tag": "ABX9TyMT6BO/PobJwSLwhofJA6LW",
      "include_colab_link": true
    },
    "kernelspec": {
      "name": "python3",
      "display_name": "Python 3"
    },
    "language_info": {
      "name": "python"
    }
  },
  "cells": [
    {
      "cell_type": "markdown",
      "metadata": {
        "id": "view-in-github",
        "colab_type": "text"
      },
      "source": [
        "<a href=\"https://colab.research.google.com/github/swarnava-96/Pyspark/blob/main/Pyspark3.ipynb\" target=\"_parent\"><img src=\"https://colab.research.google.com/assets/colab-badge.svg\" alt=\"Open In Colab\"/></a>"
      ]
    },
    {
      "cell_type": "markdown",
      "metadata": {
        "id": "UvJ7WuBGB0G1"
      },
      "source": [
        "## TOPICS COVERED\n",
        "\n",
        "##### 1.Dropping Columns\n",
        "##### 2.Dropping Rows\n",
        "##### 3.Various Parameter In Dropping functionalities\n",
        "##### 4.Handling Missing Values by Mean, Median And Mode"
      ]
    },
    {
      "cell_type": "code",
      "metadata": {
        "colab": {
          "base_uri": "https://localhost:8080/"
        },
        "id": "zUg0qn1VB-v3",
        "outputId": "5d8c7333-fc54-487f-cec3-99f537f0e2ac"
      },
      "source": [
        "!pip install pyspark"
      ],
      "execution_count": null,
      "outputs": [
        {
          "output_type": "stream",
          "text": [
            "Requirement already satisfied: pyspark in /usr/local/lib/python3.7/dist-packages (3.1.2)\n",
            "Requirement already satisfied: py4j==0.10.9 in /usr/local/lib/python3.7/dist-packages (from pyspark) (0.10.9)\n"
          ],
          "name": "stdout"
        }
      ]
    },
    {
      "cell_type": "code",
      "metadata": {
        "id": "nThU0enPnxRG"
      },
      "source": [
        "from pyspark.sql import SparkSession\n",
        "spark=SparkSession.builder.appName('Practise').getOrCreate()"
      ],
      "execution_count": null,
      "outputs": []
    },
    {
      "cell_type": "code",
      "metadata": {
        "colab": {
          "base_uri": "https://localhost:8080/",
          "height": 216
        },
        "id": "M6ncWM0VoadL",
        "outputId": "a16950cd-8693-41b1-94c9-27870e89ffd9"
      },
      "source": [
        "spark"
      ],
      "execution_count": null,
      "outputs": [
        {
          "output_type": "execute_result",
          "data": {
            "text/html": [
              "\n",
              "            <div>\n",
              "                <p><b>SparkSession - in-memory</b></p>\n",
              "                \n",
              "        <div>\n",
              "            <p><b>SparkContext</b></p>\n",
              "\n",
              "            <p><a href=\"http://1db378ed4d85:4040\">Spark UI</a></p>\n",
              "\n",
              "            <dl>\n",
              "              <dt>Version</dt>\n",
              "                <dd><code>v3.1.2</code></dd>\n",
              "              <dt>Master</dt>\n",
              "                <dd><code>local[*]</code></dd>\n",
              "              <dt>AppName</dt>\n",
              "                <dd><code>Practise</code></dd>\n",
              "            </dl>\n",
              "        </div>\n",
              "        \n",
              "            </div>\n",
              "        "
            ],
            "text/plain": [
              "<pyspark.sql.session.SparkSession at 0x7f002dbd3c10>"
            ]
          },
          "metadata": {
            "tags": []
          },
          "execution_count": 25
        }
      ]
    },
    {
      "cell_type": "code",
      "metadata": {
        "id": "C5-VJMdnoiuQ"
      },
      "source": [
        "df_pyspark=spark.read.csv('/content/drive/MyDrive/Datasets/test2.csv',header=True,inferSchema=True)"
      ],
      "execution_count": null,
      "outputs": []
    },
    {
      "cell_type": "code",
      "metadata": {
        "colab": {
          "base_uri": "https://localhost:8080/"
        },
        "id": "An9COpttpFLd",
        "outputId": "b579fff5-51ce-4b62-8fcc-7c95cc87e7dc"
      },
      "source": [
        "df_pyspark.show()"
      ],
      "execution_count": null,
      "outputs": [
        {
          "output_type": "stream",
          "text": [
            "+--------+----+----------+------+\n",
            "|    Name| Age|Experience|Salary|\n",
            "+--------+----+----------+------+\n",
            "|Swarnava|  25|         0|     0|\n",
            "|Abhishek|  24|         2| 30000|\n",
            "| Pushpok|  24|         6| 50000|\n",
            "|  Deeyan|  24|         2| 35000|\n",
            "| Swastik|  24|         1| 40000|\n",
            "|  Pranoy|null|      null| 65000|\n",
            "|    null|  26|        10|  null|\n",
            "|    null|  23|      null|  null|\n",
            "+--------+----+----------+------+\n",
            "\n"
          ],
          "name": "stdout"
        }
      ]
    },
    {
      "cell_type": "markdown",
      "metadata": {
        "id": "wIhQbtP6pabk"
      },
      "source": [
        "### Dropping Columns"
      ]
    },
    {
      "cell_type": "code",
      "metadata": {
        "colab": {
          "base_uri": "https://localhost:8080/"
        },
        "id": "vVX6ApKkpboa",
        "outputId": "c454e425-42ba-4253-c401-9fe9bcf56fe8"
      },
      "source": [
        "df_pyspark.drop('Name').show()"
      ],
      "execution_count": null,
      "outputs": [
        {
          "output_type": "stream",
          "text": [
            "+----+----------+------+\n",
            "| Age|Experience|Salary|\n",
            "+----+----------+------+\n",
            "|  25|         0|     0|\n",
            "|  24|         2| 30000|\n",
            "|  24|         6| 50000|\n",
            "|  24|         2| 35000|\n",
            "|  24|         1| 40000|\n",
            "|null|      null| 65000|\n",
            "|  26|        10|  null|\n",
            "|  23|      null|  null|\n",
            "+----+----------+------+\n",
            "\n"
          ],
          "name": "stdout"
        }
      ]
    },
    {
      "cell_type": "code",
      "metadata": {
        "colab": {
          "base_uri": "https://localhost:8080/"
        },
        "id": "4m15ywZapix3",
        "outputId": "08cadd88-c2a9-40b7-f127-04a267933e0f"
      },
      "source": [
        "df_pyspark.show()"
      ],
      "execution_count": null,
      "outputs": [
        {
          "output_type": "stream",
          "text": [
            "+--------+----+----------+------+\n",
            "|    Name| Age|Experience|Salary|\n",
            "+--------+----+----------+------+\n",
            "|Swarnava|  25|         0|     0|\n",
            "|Abhishek|  24|         2| 30000|\n",
            "| Pushpok|  24|         6| 50000|\n",
            "|  Deeyan|  24|         2| 35000|\n",
            "| Swastik|  24|         1| 40000|\n",
            "|  Pranoy|null|      null| 65000|\n",
            "|    null|  26|        10|  null|\n",
            "|    null|  23|      null|  null|\n",
            "+--------+----+----------+------+\n",
            "\n"
          ],
          "name": "stdout"
        }
      ]
    },
    {
      "cell_type": "markdown",
      "metadata": {
        "id": "As9iazFKqFVQ"
      },
      "source": [
        "### Dropping Rows"
      ]
    },
    {
      "cell_type": "code",
      "metadata": {
        "colab": {
          "base_uri": "https://localhost:8080/"
        },
        "id": "19B3fMeWpqZW",
        "outputId": "cc59f53b-1957-43f1-883a-06da72994196"
      },
      "source": [
        "##droping all the rows that contains missing values\n",
        "\n",
        "df_pyspark.na.drop().show()"
      ],
      "execution_count": null,
      "outputs": [
        {
          "output_type": "stream",
          "text": [
            "+--------+---+----------+------+\n",
            "|    Name|Age|Experience|Salary|\n",
            "+--------+---+----------+------+\n",
            "|Swarnava| 25|         0|     0|\n",
            "|Abhishek| 24|         2| 30000|\n",
            "| Pushpok| 24|         6| 50000|\n",
            "|  Deeyan| 24|         2| 35000|\n",
            "| Swastik| 24|         1| 40000|\n",
            "+--------+---+----------+------+\n",
            "\n"
          ],
          "name": "stdout"
        }
      ]
    },
    {
      "cell_type": "markdown",
      "metadata": {
        "id": "Bd9XBhSrr47s"
      },
      "source": [
        "### Various Parameter In Dropping functionalities"
      ]
    },
    {
      "cell_type": "code",
      "metadata": {
        "colab": {
          "base_uri": "https://localhost:8080/"
        },
        "id": "PQ-8DyfNp4xs",
        "outputId": "b9539809-2a03-48c2-c846-b89d1c10eca6"
      },
      "source": [
        "##how=any\n",
        "\n",
        "df_pyspark.na.drop(how='any').show()"
      ],
      "execution_count": null,
      "outputs": [
        {
          "output_type": "stream",
          "text": [
            "+--------+---+----------+------+\n",
            "|    Name|Age|Experience|Salary|\n",
            "+--------+---+----------+------+\n",
            "|Swarnava| 25|         0|     0|\n",
            "|Abhishek| 24|         2| 30000|\n",
            "| Pushpok| 24|         6| 50000|\n",
            "|  Deeyan| 24|         2| 35000|\n",
            "| Swastik| 24|         1| 40000|\n",
            "+--------+---+----------+------+\n",
            "\n"
          ],
          "name": "stdout"
        }
      ]
    },
    {
      "cell_type": "code",
      "metadata": {
        "colab": {
          "base_uri": "https://localhost:8080/"
        },
        "id": "0tT-4mIdq0oF",
        "outputId": "940e873e-b28e-4855-a7e1-484a30199826"
      },
      "source": [
        "##threshold\n",
        "\n",
        "df_pyspark.na.drop(how='any',thresh=2).show()"
      ],
      "execution_count": null,
      "outputs": [
        {
          "output_type": "stream",
          "text": [
            "+--------+----+----------+------+\n",
            "|    Name| Age|Experience|Salary|\n",
            "+--------+----+----------+------+\n",
            "|Swarnava|  25|         0|     0|\n",
            "|Abhishek|  24|         2| 30000|\n",
            "| Pushpok|  24|         6| 50000|\n",
            "|  Deeyan|  24|         2| 35000|\n",
            "| Swastik|  24|         1| 40000|\n",
            "|  Pranoy|null|      null| 65000|\n",
            "|    null|  26|        10|  null|\n",
            "+--------+----+----------+------+\n",
            "\n"
          ],
          "name": "stdout"
        }
      ]
    },
    {
      "cell_type": "code",
      "metadata": {
        "colab": {
          "base_uri": "https://localhost:8080/"
        },
        "id": "q4enA_NerOTN",
        "outputId": "cb7296bc-8d5e-44a0-e558-a39f020d9550"
      },
      "source": [
        "##subset\n",
        "\n",
        "df_pyspark.na.drop(how='any',subset=['Age']).show()"
      ],
      "execution_count": null,
      "outputs": [
        {
          "output_type": "stream",
          "text": [
            "+--------+---+----------+------+\n",
            "|    Name|Age|Experience|Salary|\n",
            "+--------+---+----------+------+\n",
            "|Swarnava| 25|         0|     0|\n",
            "|Abhishek| 24|         2| 30000|\n",
            "| Pushpok| 24|         6| 50000|\n",
            "|  Deeyan| 24|         2| 35000|\n",
            "| Swastik| 24|         1| 40000|\n",
            "|    null| 26|        10|  null|\n",
            "|    null| 23|      null|  null|\n",
            "+--------+---+----------+------+\n",
            "\n"
          ],
          "name": "stdout"
        }
      ]
    },
    {
      "cell_type": "markdown",
      "metadata": {
        "id": "NtJu6CrwsBZk"
      },
      "source": [
        "### Handling Missing Values by Mean, Median And Mode"
      ]
    },
    {
      "cell_type": "code",
      "metadata": {
        "colab": {
          "base_uri": "https://localhost:8080/"
        },
        "id": "bmRAv9qgsCXd",
        "outputId": "82873fe6-5497-4813-d17b-13139b929152"
      },
      "source": [
        "\n",
        "df_pyspark.na.fill('Missing Values',['Name']).show()"
      ],
      "execution_count": null,
      "outputs": [
        {
          "output_type": "stream",
          "text": [
            "+--------------+----+----------+------+\n",
            "|          Name| Age|Experience|Salary|\n",
            "+--------------+----+----------+------+\n",
            "|      Swarnava|  25|         0|     0|\n",
            "|      Abhishek|  24|         2| 30000|\n",
            "|       Pushpok|  24|         6| 50000|\n",
            "|        Deeyan|  24|         2| 35000|\n",
            "|       Swastik|  24|         1| 40000|\n",
            "|        Pranoy|null|      null| 65000|\n",
            "|Missing Values|  26|        10|  null|\n",
            "|Missing Values|  23|      null|  null|\n",
            "+--------------+----+----------+------+\n",
            "\n"
          ],
          "name": "stdout"
        }
      ]
    },
    {
      "cell_type": "code",
      "metadata": {
        "colab": {
          "base_uri": "https://localhost:8080/"
        },
        "id": "8mkNtAaWsPfz",
        "outputId": "70a9bebd-ce44-41dc-b997-216a8157e18b"
      },
      "source": [
        "df_pyspark.show()"
      ],
      "execution_count": null,
      "outputs": [
        {
          "output_type": "stream",
          "text": [
            "+--------+----+----------+------+\n",
            "|    Name| Age|Experience|Salary|\n",
            "+--------+----+----------+------+\n",
            "|Swarnava|  25|         0|     0|\n",
            "|Abhishek|  24|         2| 30000|\n",
            "| Pushpok|  24|         6| 50000|\n",
            "|  Deeyan|  24|         2| 35000|\n",
            "| Swastik|  24|         1| 40000|\n",
            "|  Pranoy|null|      null| 65000|\n",
            "|    null|  26|        10|  null|\n",
            "|    null|  23|      null|  null|\n",
            "+--------+----+----------+------+\n",
            "\n"
          ],
          "name": "stdout"
        }
      ]
    },
    {
      "cell_type": "code",
      "metadata": {
        "colab": {
          "base_uri": "https://localhost:8080/"
        },
        "id": "GhH-sYdeuDCM",
        "outputId": "5d66d20a-44f8-4290-c035-ce101a7c8518"
      },
      "source": [
        "\n",
        "df_pyspark.printSchema()"
      ],
      "execution_count": null,
      "outputs": [
        {
          "output_type": "stream",
          "text": [
            "root\n",
            " |-- Name: string (nullable = true)\n",
            " |-- Age: integer (nullable = true)\n",
            " |-- Experience: integer (nullable = true)\n",
            " |-- Salary: integer (nullable = true)\n",
            "\n"
          ],
          "name": "stdout"
        }
      ]
    },
    {
      "cell_type": "code",
      "metadata": {
        "id": "YOlZATtfuG0V"
      },
      "source": [
        "from pyspark.ml.feature import Imputer\n",
        "\n",
        "imputer = Imputer(\n",
        "    inputCols=['Age', 'Experience', 'Salary'], \n",
        "    outputCols=[\"{}_imputed\".format(c) for c in ['Age', 'Experience', 'Salary']]\n",
        "    ).setStrategy(\"median\")"
      ],
      "execution_count": null,
      "outputs": []
    },
    {
      "cell_type": "code",
      "metadata": {
        "colab": {
          "base_uri": "https://localhost:8080/"
        },
        "id": "ux0s4yFjuLXy",
        "outputId": "e9738b03-4dfc-454a-85a6-ffcf681c7860"
      },
      "source": [
        "# Add imputation cols to df\n",
        "imputer.fit(df_pyspark).transform(df_pyspark).show()"
      ],
      "execution_count": null,
      "outputs": [
        {
          "output_type": "stream",
          "text": [
            "+--------+----+----------+------+-----------+------------------+--------------+\n",
            "|    Name| Age|Experience|Salary|Age_imputed|Experience_imputed|Salary_imputed|\n",
            "+--------+----+----------+------+-----------+------------------+--------------+\n",
            "|Swarnava|  25|         0|     0|         25|                 0|             0|\n",
            "|Abhishek|  24|         2| 30000|         24|                 2|         30000|\n",
            "| Pushpok|  24|         6| 50000|         24|                 6|         50000|\n",
            "|  Deeyan|  24|         2| 35000|         24|                 2|         35000|\n",
            "| Swastik|  24|         1| 40000|         24|                 1|         40000|\n",
            "|  Pranoy|null|      null| 65000|         24|                 2|         65000|\n",
            "|    null|  26|        10|  null|         26|                10|         35000|\n",
            "|    null|  23|      null|  null|         23|                 2|         35000|\n",
            "+--------+----+----------+------+-----------+------------------+--------------+\n",
            "\n"
          ],
          "name": "stdout"
        }
      ]
    }
  ]
}