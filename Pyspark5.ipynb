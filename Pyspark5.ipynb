{
  "nbformat": 4,
  "nbformat_minor": 0,
  "metadata": {
    "colab": {
      "name": "Pyspark5",
      "provenance": [],
      "collapsed_sections": [],
      "mount_file_id": "1ABcwmNUxpKx29Wh3_bRl47IKRV20sFkv",
      "authorship_tag": "ABX9TyPF+xVaiPJxo/Qz7rJtGXcq",
      "include_colab_link": true
    },
    "kernelspec": {
      "name": "python3",
      "display_name": "Python 3"
    },
    "language_info": {
      "name": "python"
    }
  },
  "cells": [
    {
      "cell_type": "markdown",
      "metadata": {
        "id": "view-in-github",
        "colab_type": "text"
      },
      "source": [
        "<a href=\"https://colab.research.google.com/github/swarnava-96/Pyspark/blob/main/Pyspark5.ipynb\" target=\"_parent\"><img src=\"https://colab.research.google.com/assets/colab-badge.svg\" alt=\"Open In Colab\"/></a>"
      ]
    },
    {
      "cell_type": "markdown",
      "metadata": {
        "id": "NLxJd2V_WcQo"
      },
      "source": [
        "# Pyspark GroupBy And Aggregate Functions"
      ]
    },
    {
      "cell_type": "code",
      "metadata": {
        "colab": {
          "base_uri": "https://localhost:8080/"
        },
        "id": "qz_4WJy4Weaq",
        "outputId": "05785295-433a-4cba-ff7a-78b7969b424e"
      },
      "source": [
        "!pip install pyspark"
      ],
      "execution_count": 1,
      "outputs": [
        {
          "output_type": "stream",
          "text": [
            "Collecting pyspark\n",
            "\u001b[?25l  Downloading https://files.pythonhosted.org/packages/89/db/e18cfd78e408de957821ec5ca56de1250645b05f8523d169803d8df35a64/pyspark-3.1.2.tar.gz (212.4MB)\n",
            "\u001b[K     |████████████████████████████████| 212.4MB 67kB/s \n",
            "\u001b[?25hCollecting py4j==0.10.9\n",
            "\u001b[?25l  Downloading https://files.pythonhosted.org/packages/9e/b6/6a4fb90cd235dc8e265a6a2067f2a2c99f0d91787f06aca4bcf7c23f3f80/py4j-0.10.9-py2.py3-none-any.whl (198kB)\n",
            "\u001b[K     |████████████████████████████████| 204kB 18.8MB/s \n",
            "\u001b[?25hBuilding wheels for collected packages: pyspark\n",
            "  Building wheel for pyspark (setup.py) ... \u001b[?25l\u001b[?25hdone\n",
            "  Created wheel for pyspark: filename=pyspark-3.1.2-py2.py3-none-any.whl size=212880768 sha256=9f2bac17093ee2a1a66c2ef9e2f1a58186aa9f693e088a4416c51bae4e2f1f44\n",
            "  Stored in directory: /root/.cache/pip/wheels/40/1b/2c/30f43be2627857ab80062bef1527c0128f7b4070b6b2d02139\n",
            "Successfully built pyspark\n",
            "Installing collected packages: py4j, pyspark\n",
            "Successfully installed py4j-0.10.9 pyspark-3.1.2\n"
          ],
          "name": "stdout"
        }
      ]
    },
    {
      "cell_type": "code",
      "metadata": {
        "id": "kh2XlNobWwYP"
      },
      "source": [
        "from pyspark.sql import SparkSession"
      ],
      "execution_count": 2,
      "outputs": []
    },
    {
      "cell_type": "code",
      "metadata": {
        "id": "quVNPzisoUc3"
      },
      "source": [
        "spark=SparkSession.builder.appName('Agg').getOrCreate()"
      ],
      "execution_count": 3,
      "outputs": []
    },
    {
      "cell_type": "code",
      "metadata": {
        "colab": {
          "base_uri": "https://localhost:8080/",
          "height": 216
        },
        "id": "lZ5ORII5oX7h",
        "outputId": "974913f8-8c27-47e1-bc0b-8074771c3811"
      },
      "source": [
        "spark"
      ],
      "execution_count": 4,
      "outputs": [
        {
          "output_type": "execute_result",
          "data": {
            "text/html": [
              "\n",
              "            <div>\n",
              "                <p><b>SparkSession - in-memory</b></p>\n",
              "                \n",
              "        <div>\n",
              "            <p><b>SparkContext</b></p>\n",
              "\n",
              "            <p><a href=\"http://4a7cb70ec8df:4040\">Spark UI</a></p>\n",
              "\n",
              "            <dl>\n",
              "              <dt>Version</dt>\n",
              "                <dd><code>v3.1.2</code></dd>\n",
              "              <dt>Master</dt>\n",
              "                <dd><code>local[*]</code></dd>\n",
              "              <dt>AppName</dt>\n",
              "                <dd><code>Agg</code></dd>\n",
              "            </dl>\n",
              "        </div>\n",
              "        \n",
              "            </div>\n",
              "        "
            ],
            "text/plain": [
              "<pyspark.sql.session.SparkSession at 0x7fb328983210>"
            ]
          },
          "metadata": {
            "tags": []
          },
          "execution_count": 4
        }
      ]
    },
    {
      "cell_type": "code",
      "metadata": {
        "id": "8V2o4BqToa4t"
      },
      "source": [
        "df_pyspark=spark.read.csv('/content/drive/MyDrive/Datasets/test3.csv',header=True,inferSchema=True)"
      ],
      "execution_count": 5,
      "outputs": []
    },
    {
      "cell_type": "code",
      "metadata": {
        "colab": {
          "base_uri": "https://localhost:8080/"
        },
        "id": "-oyVGjt6q5br",
        "outputId": "7c76006e-9a3f-4fcf-855e-f171b949c2bc"
      },
      "source": [
        "df_pyspark.show()"
      ],
      "execution_count": 7,
      "outputs": [
        {
          "output_type": "stream",
          "text": [
            "+--------+-----------------+------+\n",
            "|    Name|       Department|Salary|\n",
            "+--------+-----------------+------+\n",
            "|Swarnava|     Data Science| 30000|\n",
            "|Abhishek|               IT| 40000|\n",
            "| Pushpok|         Accounts| 60000|\n",
            "|  Deeyan|Digital Marketing| 55000|\n",
            "| Swastik|         Accounts| 40000|\n",
            "|  Pranoy|          Finance| 65000|\n",
            "|Swarnava|               BA| 25000|\n",
            "|Abhishek|             Bank| 35000|\n",
            "| Pushpok|              IOT| 44000|\n",
            "+--------+-----------------+------+\n",
            "\n"
          ],
          "name": "stdout"
        }
      ]
    },
    {
      "cell_type": "code",
      "metadata": {
        "colab": {
          "base_uri": "https://localhost:8080/"
        },
        "id": "g3czUGsmq9ZE",
        "outputId": "fe1e0da8-e5f8-4c68-e79a-8c3a34abe851"
      },
      "source": [
        "df_pyspark.printSchema()"
      ],
      "execution_count": 9,
      "outputs": [
        {
          "output_type": "stream",
          "text": [
            "root\n",
            " |-- Name: string (nullable = true)\n",
            " |-- Department: string (nullable = true)\n",
            " |-- Salary: integer (nullable = true)\n",
            "\n"
          ],
          "name": "stdout"
        }
      ]
    },
    {
      "cell_type": "code",
      "metadata": {
        "colab": {
          "base_uri": "https://localhost:8080/"
        },
        "id": "mPTtBCQgrEiy",
        "outputId": "b71dc44b-5304-4a26-f244-51a21ce43b98"
      },
      "source": [
        "### Grouped to find the maximum salary\n",
        "\n",
        "df_pyspark.groupby('name').sum().show()"
      ],
      "execution_count": 11,
      "outputs": [
        {
          "output_type": "stream",
          "text": [
            "+--------+-----------+\n",
            "|    name|sum(Salary)|\n",
            "+--------+-----------+\n",
            "|Abhishek|      75000|\n",
            "| Pushpok|     104000|\n",
            "|  Pranoy|      65000|\n",
            "|Swarnava|      55000|\n",
            "|  Deeyan|      55000|\n",
            "| Swastik|      40000|\n",
            "+--------+-----------+\n",
            "\n"
          ],
          "name": "stdout"
        }
      ]
    },
    {
      "cell_type": "code",
      "metadata": {
        "colab": {
          "base_uri": "https://localhost:8080/"
        },
        "id": "vmnWitHCsNOD",
        "outputId": "5efbea2a-3044-4108-a35c-285ad6296c6e"
      },
      "source": [
        "###Groupby Dapartments which gives maximum salary\n",
        "\n",
        "df_pyspark.groupby('Department').sum().show()"
      ],
      "execution_count": 12,
      "outputs": [
        {
          "output_type": "stream",
          "text": [
            "+-----------------+-----------+\n",
            "|       Department|sum(Salary)|\n",
            "+-----------------+-----------+\n",
            "|Digital Marketing|      55000|\n",
            "|             Bank|      35000|\n",
            "|              IOT|      44000|\n",
            "|          Finance|      65000|\n",
            "|               BA|      25000|\n",
            "|         Accounts|     100000|\n",
            "|               IT|      40000|\n",
            "|     Data Science|      30000|\n",
            "+-----------------+-----------+\n",
            "\n"
          ],
          "name": "stdout"
        }
      ]
    },
    {
      "cell_type": "code",
      "metadata": {
        "colab": {
          "base_uri": "https://localhost:8080/"
        },
        "id": "6WhDnL6nszgc",
        "outputId": "ec26e492-a523-462e-abf2-d0fa6461bc3c"
      },
      "source": [
        "###Groupby Dapartments which gives average salary\n",
        "\n",
        "df_pyspark.groupby('Department').mean().show()"
      ],
      "execution_count": 13,
      "outputs": [
        {
          "output_type": "stream",
          "text": [
            "+-----------------+-----------+\n",
            "|       Department|avg(Salary)|\n",
            "+-----------------+-----------+\n",
            "|Digital Marketing|    55000.0|\n",
            "|             Bank|    35000.0|\n",
            "|              IOT|    44000.0|\n",
            "|          Finance|    65000.0|\n",
            "|               BA|    25000.0|\n",
            "|         Accounts|    50000.0|\n",
            "|               IT|    40000.0|\n",
            "|     Data Science|    30000.0|\n",
            "+-----------------+-----------+\n",
            "\n"
          ],
          "name": "stdout"
        }
      ]
    },
    {
      "cell_type": "code",
      "metadata": {
        "colab": {
          "base_uri": "https://localhost:8080/"
        },
        "id": "XfkM9RSdticV",
        "outputId": "860b3297-158b-4451-fa34-6be77603259b"
      },
      "source": [
        "###Groupby Dapartments which gives number of employees\n",
        "\n",
        "df_pyspark.groupby('Department').count().show()"
      ],
      "execution_count": 14,
      "outputs": [
        {
          "output_type": "stream",
          "text": [
            "+-----------------+-----+\n",
            "|       Department|count|\n",
            "+-----------------+-----+\n",
            "|Digital Marketing|    1|\n",
            "|             Bank|    1|\n",
            "|              IOT|    1|\n",
            "|          Finance|    1|\n",
            "|               BA|    1|\n",
            "|         Accounts|    2|\n",
            "|               IT|    1|\n",
            "|     Data Science|    1|\n",
            "+-----------------+-----+\n",
            "\n"
          ],
          "name": "stdout"
        }
      ]
    },
    {
      "cell_type": "code",
      "metadata": {
        "colab": {
          "base_uri": "https://localhost:8080/"
        },
        "id": "X4hhDIWPt43i",
        "outputId": "17eb8dad-9d8f-4a46-c49c-d12dd6fbcd2d"
      },
      "source": [
        "### aggregating the total salary\n",
        "\n",
        "df_pyspark.agg({'Salary':'sum'}).show()"
      ],
      "execution_count": 15,
      "outputs": [
        {
          "output_type": "stream",
          "text": [
            "+-----------+\n",
            "|sum(Salary)|\n",
            "+-----------+\n",
            "|     394000|\n",
            "+-----------+\n",
            "\n"
          ],
          "name": "stdout"
        }
      ]
    },
    {
      "cell_type": "code",
      "metadata": {
        "colab": {
          "base_uri": "https://localhost:8080/"
        },
        "id": "n_1O8p0vuecD",
        "outputId": "51d09281-eb28-4728-d007-251b65786d64"
      },
      "source": [
        "###Finding the employee who gets the max salary\n",
        "\n",
        "df_pyspark.groupby('Name').max().show()"
      ],
      "execution_count": 16,
      "outputs": [
        {
          "output_type": "stream",
          "text": [
            "+--------+-----------+\n",
            "|    Name|max(Salary)|\n",
            "+--------+-----------+\n",
            "|Abhishek|      40000|\n",
            "| Pushpok|      60000|\n",
            "|  Pranoy|      65000|\n",
            "|Swarnava|      30000|\n",
            "|  Deeyan|      55000|\n",
            "| Swastik|      40000|\n",
            "+--------+-----------+\n",
            "\n"
          ],
          "name": "stdout"
        }
      ]
    },
    {
      "cell_type": "code",
      "metadata": {
        "colab": {
          "base_uri": "https://localhost:8080/"
        },
        "id": "ZZNA22kOuus4",
        "outputId": "e57440ec-d96f-4835-995d-01ec73508cdc"
      },
      "source": [
        "###Finding the employee who gets the min salary\n",
        "\n",
        "df_pyspark.groupby('Name').min().show()"
      ],
      "execution_count": 17,
      "outputs": [
        {
          "output_type": "stream",
          "text": [
            "+--------+-----------+\n",
            "|    Name|min(Salary)|\n",
            "+--------+-----------+\n",
            "|Abhishek|      35000|\n",
            "| Pushpok|      44000|\n",
            "|  Pranoy|      65000|\n",
            "|Swarnava|      25000|\n",
            "|  Deeyan|      55000|\n",
            "| Swastik|      40000|\n",
            "+--------+-----------+\n",
            "\n"
          ],
          "name": "stdout"
        }
      ]
    }
  ]
}